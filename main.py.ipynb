{
 "cells": [
  {
   "cell_type": "code",
   "execution_count": 25,
   "metadata": {
    "collapsed": true
   },
   "outputs": [],
   "source": [
    "import boto3\n",
    "from botocore.exceptions import ClientError"
   ]
  },
  {
   "cell_type": "code",
   "execution_count": 26,
   "outputs": [],
   "source": [
    "region = \"us-east-1\""
   ],
   "metadata": {
    "collapsed": false,
    "pycharm": {
     "name": "#%%\n"
    }
   }
  },
  {
   "cell_type": "code",
   "execution_count": 27,
   "outputs": [],
   "source": [
    "originationNumber = \"+19706237718\"\n",
    "destinationNumber = \"+19378421922\""
   ],
   "metadata": {
    "collapsed": false,
    "pycharm": {
     "name": "#%%\n"
    }
   }
  },
  {
   "cell_type": "code",
   "execution_count": 28,
   "outputs": [],
   "source": [
    "message = (\"We cannot deny or confirm.\")\n",
    "applicationId = \"f1dcce6b6bcd4e789ad5609e847a3941\"\n",
    "messageType = \"PROMOTIONAL\"\n",
    "\n",
    "registeredKeyword = \"HELP\"\n",
    "\n",
    "senderId = \"msgbeaver\""
   ],
   "metadata": {
    "collapsed": false,
    "pycharm": {
     "name": "#%%\n"
    }
   }
  },
  {
   "cell_type": "code",
   "execution_count": 29,
   "outputs": [
    {
     "data": {
      "text/plain": "<botocore.client.Pinpoint at 0x10faf5f40>"
     },
     "execution_count": 29,
     "metadata": {},
     "output_type": "execute_result"
    }
   ],
   "source": [
    "client = boto3.client('pinpoint',region_name=region)\n",
    "client"
   ],
   "metadata": {
    "collapsed": false,
    "pycharm": {
     "name": "#%%\n"
    }
   }
  },
  {
   "cell_type": "code",
   "execution_count": 30,
   "outputs": [
    {
     "name": "stdout",
     "output_type": "stream",
     "text": [
      "The security token included in the request is invalid.\n"
     ]
    }
   ],
   "source": [
    "try:\n",
    "    response = client.send_messages(\n",
    "        ApplicationId=applicationId,\n",
    "        MessageRequest={\n",
    "            'Addresses': {\n",
    "                destinationNumber: {\n",
    "                    'ChannelType': 'SMS'\n",
    "                }\n",
    "            },\n",
    "            'MessageConfiguration': {\n",
    "                'SMSMessage': {\n",
    "                    'Body': message,\n",
    "                    'Keyword': registeredKeyword,\n",
    "                    'MessageType': messageType,\n",
    "                    'OriginationNumber': originationNumber,\n",
    "                    'SenderId': senderId\n",
    "                }\n",
    "            }\n",
    "        }\n",
    "    )\n",
    "\n",
    "except ClientError as e:\n",
    "    print(e.response['Error']['Message'])\n",
    "else:\n",
    "    print(\"Message sent! Message ID: \"\n",
    "            + response['MessageResponse']['Result'][destinationNumber]['MessageId'])"
   ],
   "metadata": {
    "collapsed": false,
    "pycharm": {
     "name": "#%%\n"
    }
   }
  },
  {
   "cell_type": "code",
   "execution_count": 30,
   "outputs": [],
   "source": [],
   "metadata": {
    "collapsed": false,
    "pycharm": {
     "name": "#%%\n"
    }
   }
  }
 ],
 "metadata": {
  "kernelspec": {
   "display_name": "Python 3",
   "language": "python",
   "name": "python3"
  },
  "language_info": {
   "codemirror_mode": {
    "name": "ipython",
    "version": 2
   },
   "file_extension": ".py",
   "mimetype": "text/x-python",
   "name": "python",
   "nbconvert_exporter": "python",
   "pygments_lexer": "ipython2",
   "version": "2.7.6"
  }
 },
 "nbformat": 4,
 "nbformat_minor": 0
}